{
  "nbformat": 4,
  "nbformat_minor": 0,
  "metadata": {
    "colab": {
      "name": "第5章リカレントニューラルネットワーク.ipynb",
      "provenance": [],
      "authorship_tag": "ABX9TyPzFSFIokhD5cEppWm6lB5E"
    },
    "kernelspec": {
      "name": "python3",
      "display_name": "Python 3"
    },
    "language_info": {
      "name": "python"
    }
  },
  "cells": [
    {
      "cell_type": "code",
      "execution_count": 1,
      "metadata": {
        "id": "zmrup3tRsTBi"
      },
      "outputs": [],
      "source": [
        "import numpy as np"
      ]
    },
    {
      "cell_type": "markdown",
      "source": [
        "### RNNレイヤの実装"
      ],
      "metadata": {
        "id": "XtSO7GS5wR0-"
      }
    },
    {
      "cell_type": "code",
      "source": [
        "class RNN:\n",
        "    def __init__(self, Wx, Wh, b):\n",
        "        self.params = [Wx, Wh, b]\n",
        "        self.grads = [np.zeros_like(Wx), np.zeros_like(Wh), np.zeros_like(b)]\n",
        "        self.cache = None\n",
        "    \n",
        "    def forward(self, x, h_prev):\n",
        "        Wx, Wh, b = self.params\n",
        "        t = np.dot(h_prev, Wh) + np.dot(x, Wx) + b\n",
        "        h_next = np.tanh(t)\n",
        "\n",
        "        self.cache = (x, h_prev, h_next)\n",
        "        return h_next\n",
        "    \n",
        "    def backward(self, dh_next):\n",
        "        Wx, Wh, b = self.params\n",
        "        x, h_prev, h_next = self.cache\n",
        "\n",
        "        dt = dh_next * (1 - h_next ** 2)\n",
        "        db = np.sum(dt, axis=0)\n",
        "        dWh = np.dot(h_prev.T, dt)\n",
        "        dh_prev = np.dot(dt, Wh.T)\n",
        "        dWx = np.dot(x.T, dt)\n",
        "        dx = np.dot(dt, Wx.T)\n",
        "\n",
        "        self.grads[0][...] = dWx\n",
        "        self.grads[1][...] = dWh\n",
        "        self.grads[2][...] = db\n",
        "\n",
        "        return dx, dh_prev"
      ],
      "metadata": {
        "id": "Jf6vcy_Lsd5d"
      },
      "execution_count": 3,
      "outputs": []
    },
    {
      "cell_type": "markdown",
      "source": [
        "### Time RNNレイヤの実装"
      ],
      "metadata": {
        "id": "tSkqE8rQtPXa"
      }
    },
    {
      "cell_type": "code",
      "source": [
        "class TimeRNN:\n",
        "    def _init__(self, Wx, Wh, b, stateful=False):\n",
        "        self.params = [Wx, Wh, b]\n",
        "        self.grads = [np.zeros_like(Wx), np.zeros_like(Wh), np.zeros_lile(b)]\n",
        "        self.layers = None\n",
        "\n",
        "        self.h, self.dh = None, None\n",
        "        self.stateful = stateful\n",
        "    \n",
        "    def set_state(self, h):\n",
        "        self.h = h\n",
        "    \n",
        "    def reset_state(self):\n",
        "        self.h = None\n",
        "    \n",
        "    def forward(self, xs):\n",
        "        Wx, Wh, b = self.params\n",
        "        N, T, D = xs.shape\n",
        "        D, H = Wx.shape\n",
        "\n",
        "        self.layers = []\n",
        "        hs = np.empty((N, T, H), dtype='f')\n",
        "\n",
        "        if not self.stateful or self.h is None:\n",
        "            self.h = np.zeros_like((N, H), dtype='f')\n",
        "        \n",
        "        for t in range(T):\n",
        "            layer = RNN(*self.params)\n",
        "            self.h = layer.forward(xs[:, t, :], self.h)\n",
        "            hs[:, t, :] = self.h\n",
        "            self.layers.append(layer)\n",
        "        return hs\n",
        "    \n",
        "    def backward(self, dhs):\n",
        "        Wx, Wh, b = self.params\n",
        "        N, T, H = dhs.shape\n",
        "        D, H = Wx.shape\n",
        "\n",
        "        dxs = np.empty((N, T, D), dtype='f')\n",
        "        df = 0\n",
        "        grads = [0, 0, 0]\n",
        "        for t in reversed(range(T)):\n",
        "            layer = self.layers[t]\n",
        "            dx, dh = layer.backward(dhs[:, t, :] + dh) # 合算した勾配\n",
        "            dxs[:, t, :] = dx\n",
        "\n",
        "            for i, grad in enumerate(layer.grads):\n",
        "                grads[i] += grad\n",
        "        \n",
        "        for i, grad in enumerate(grads):\n",
        "            self.grads[i][...] = grad\n",
        "        self.dh = dh\n",
        "\n",
        "        return dxs"
      ],
      "metadata": {
        "id": "VpJ-tzxQwWm2"
      },
      "execution_count": 5,
      "outputs": []
    },
    {
      "cell_type": "markdown",
      "source": [
        "### RNNLMの実装"
      ],
      "metadata": {
        "id": "n3iYdZTuw-lP"
      }
    },
    {
      "cell_type": "code",
      "source": [
        "import time_layers"
      ],
      "metadata": {
        "id": "qt3li1sx6U8H"
      },
      "execution_count": 7,
      "outputs": []
    },
    {
      "cell_type": "code",
      "source": [
        "class SimpleRnnlm:\n",
        "    def __init__(self, vocab_size, wordvec_size, hidden_size):\n",
        "        V, D, H = vocab_size, wordvec_size, hidden_size\n",
        "        rn = np.random.randn\n",
        "\n",
        "        # 重みの初期化\n",
        "        embed_W = (rn(V, D) / 100).astype('f')\n",
        "        rnn_Wx = (rn(D, H) / np.sqrt(D)).astype('f')\n",
        "        rnn_Wh = (rn(H, H) / np.sqrt(H)).astype('f')\n",
        "        rnn_b = np.zeros(H).astype('f')\n",
        "        affine_W = (rn(H, V) / np.sqrt(H)).astype('f')\n",
        "        affine_b = np.zeros(V).astype('f')\n",
        "\n",
        "        # レイヤの生成\n",
        "        self.layers = [\n",
        "            time_layers.TimeEmbedding(embed_W),\n",
        "            time_layers.TimeRNN(rnn_Wx, rnn_Wh, rnn_b, stateful=True),\n",
        "            time_layers.TimeAffine(affine_W, affine_b)\n",
        "        ]\n",
        "        self.loss_layer = time_layers.TimeSoftmaxWithLoss()\n",
        "        self.rnn_layer = self.layers[1]\n",
        "\n",
        "        # 全ての重みと勾配をリストにまとめる\n",
        "        self.params, self.grads = [], []\n",
        "        for layer in self.layers:\n",
        "            self.params += layer.params\n",
        "            self.grads += layer.grads\n",
        "    \n",
        "    def forward(self, xs, ts):\n",
        "        for layer in self.layers:\n",
        "            xs = layer.forward(xs)\n",
        "        loss = self.loss_layer.forward(xs, ts)\n",
        "        return loss\n",
        "    \n",
        "    def backward(self, dout=1):\n",
        "        dout = self.loss_layer.backward(dout)\n",
        "        for layer in reversed(self.layers):\n",
        "            dout = layer.backward(dout)\n",
        "        return dout\n",
        "    \n",
        "    def reset_state(self):\n",
        "        self.rnn_layer.reset_state()"
      ],
      "metadata": {
        "id": "598x5gcR5Li5"
      },
      "execution_count": 8,
      "outputs": []
    },
    {
      "cell_type": "markdown",
      "source": [
        "### RNNLMの学習コード"
      ],
      "metadata": {
        "id": "rzuKDtKq8Pgy"
      }
    },
    {
      "cell_type": "code",
      "source": [
        "class SGD:\n",
        "    '''\n",
        "    確率的勾配降下法（Stochastic Gradient Descent）\n",
        "    '''\n",
        "    def __init__(self, lr=0.01):\n",
        "        self.lr = lr\n",
        "        \n",
        "    def update(self, params, grads):\n",
        "        for i in range(len(params)):\n",
        "            params[i] -= self.lr * grads[i]"
      ],
      "metadata": {
        "id": "ZwZqQ4e99GTH"
      },
      "execution_count": 9,
      "outputs": []
    },
    {
      "cell_type": "code",
      "source": [
        "import ptb\n",
        "import matplotlib.pyplot as plt"
      ],
      "metadata": {
        "id": "k1FDg3Ft9HH-"
      },
      "execution_count": 10,
      "outputs": []
    },
    {
      "cell_type": "code",
      "source": [
        "# ハイパーパラメータの設定\n",
        "batch_size = 10\n",
        "wordvec_size = 100\n",
        "hidden_size = 100 # RNNの隠れ状態ベクトルの要素数\n",
        "time_size = 5 # Truncated BPTTの展開する時間サイズ\n",
        "lr = 0.1\n",
        "max_epoch = 100\n",
        "\n",
        "# 学習データの読み込み（データセットを小さくする）\n",
        "corpus, word_to_id, id_to_word = ptb.load_data('train')\n",
        "corpus_size = 1000\n",
        "corpus = corpus[:corpus_size]\n",
        "vocab_size = int(max(corpus) + 1)\n",
        "\n",
        "xs = corpus[:-1] # 入力\n",
        "ts = corpus[1:] # 出力（教師データ）\n",
        "data_size = len(xs)\n",
        "print('corpus size: %d, vocabulary size: %d' % (corpus_size, vocab_size))\n",
        "\n",
        "# 学習時に使用する変数\n",
        "max_iters = data_size // (batch_size * time_size)\n",
        "time_idx = 0\n",
        "total_loss = 0\n",
        "loss_count = 0\n",
        "ppl_list = []\n",
        "\n",
        "# モデルの生成\n",
        "model = SimpleRnnlm(vocab_size, wordvec_size, hidden_size)\n",
        "optimizer = SGD(lr)\n",
        "\n",
        "# ①ミニバッチの各サンプルの読み込み開始位置を計算\n",
        "jump = (corpus_size - 1) // batch_size\n",
        "offsets = [i * jump for i in range(batch_size)]\n",
        "\n",
        "for epoch in range(max_epoch):\n",
        "    for iter in range(max_iters):\n",
        "        # ②ミニバッチの取得\n",
        "        batch_x = np.empty((batch_size, time_size), dtype='i')\n",
        "        batch_t = np.empty((batch_size, time_size), dtype='i')\n",
        "        for t in range(time_size):\n",
        "            for i, offset in enumerate(offsets):\n",
        "                batch_x[i, t] = xs[(offset + time_idx) % data_size]\n",
        "                batch_t[i, t] = ts[(offset + time_idx) % data_size]\n",
        "            time_idx += 1\n",
        "\n",
        "        # 勾配を求め、パラメータを更新\n",
        "        loss = model.forward(batch_x, batch_t)\n",
        "        model.backward()\n",
        "        optimizer.update(model.params, model.grads)\n",
        "        total_loss += loss\n",
        "        loss_count += 1\n",
        "    \n",
        "    # ③エポックごとにパープレキシティの評価\n",
        "    ppl = np.exp(total_loss / loss_count)\n",
        "    print('| epoch %d | perplexity %.2f' % (epoch + 1, ppl))\n",
        "    ppl_list.append(float(ppl))\n",
        "    total_loss, loss_count = 0, 0"
      ],
      "metadata": {
        "colab": {
          "base_uri": "https://localhost:8080/"
        },
        "id": "QkJZSnfa9Tjc",
        "outputId": "d6df0ba2-9ed4-4457-96a2-5e02695d33b5"
      },
      "execution_count": 11,
      "outputs": [
        {
          "output_type": "stream",
          "name": "stdout",
          "text": [
            "Downloading ptb.train.txt ... \n",
            "Done\n",
            "corpus size: 1000, vocabulary size: 418\n",
            "| epoch 1 | perplexity 392.22\n",
            "| epoch 2 | perplexity 269.36\n",
            "| epoch 3 | perplexity 227.48\n",
            "| epoch 4 | perplexity 216.70\n",
            "| epoch 5 | perplexity 207.04\n",
            "| epoch 6 | perplexity 202.92\n",
            "| epoch 7 | perplexity 199.85\n",
            "| epoch 8 | perplexity 197.37\n",
            "| epoch 9 | perplexity 191.51\n",
            "| epoch 10 | perplexity 193.10\n",
            "| epoch 11 | perplexity 189.27\n",
            "| epoch 12 | perplexity 192.82\n",
            "| epoch 13 | perplexity 191.10\n",
            "| epoch 14 | perplexity 190.18\n",
            "| epoch 15 | perplexity 189.94\n",
            "| epoch 16 | perplexity 186.34\n",
            "| epoch 17 | perplexity 184.27\n",
            "| epoch 18 | perplexity 181.55\n",
            "| epoch 19 | perplexity 182.50\n",
            "| epoch 20 | perplexity 184.48\n",
            "| epoch 21 | perplexity 182.25\n",
            "| epoch 22 | perplexity 177.52\n",
            "| epoch 23 | perplexity 176.67\n",
            "| epoch 24 | perplexity 176.90\n",
            "| epoch 25 | perplexity 173.71\n",
            "| epoch 26 | perplexity 174.20\n",
            "| epoch 27 | perplexity 170.66\n",
            "| epoch 28 | perplexity 168.75\n",
            "| epoch 29 | perplexity 164.35\n",
            "| epoch 30 | perplexity 159.36\n",
            "| epoch 31 | perplexity 162.13\n",
            "| epoch 32 | perplexity 154.29\n",
            "| epoch 33 | perplexity 153.48\n",
            "| epoch 34 | perplexity 147.68\n",
            "| epoch 35 | perplexity 146.99\n",
            "| epoch 36 | perplexity 140.27\n",
            "| epoch 37 | perplexity 137.05\n",
            "| epoch 38 | perplexity 133.49\n",
            "| epoch 39 | perplexity 129.03\n",
            "| epoch 40 | perplexity 123.12\n",
            "| epoch 41 | perplexity 124.18\n",
            "| epoch 42 | perplexity 116.88\n",
            "| epoch 43 | perplexity 111.35\n",
            "| epoch 44 | perplexity 106.42\n",
            "| epoch 45 | perplexity 103.31\n",
            "| epoch 46 | perplexity 102.90\n",
            "| epoch 47 | perplexity 95.81\n",
            "| epoch 48 | perplexity 90.88\n",
            "| epoch 49 | perplexity 85.83\n",
            "| epoch 50 | perplexity 83.21\n",
            "| epoch 51 | perplexity 78.44\n",
            "| epoch 52 | perplexity 74.89\n",
            "| epoch 53 | perplexity 70.51\n",
            "| epoch 54 | perplexity 67.79\n",
            "| epoch 55 | perplexity 65.99\n",
            "| epoch 56 | perplexity 61.47\n",
            "| epoch 57 | perplexity 59.59\n",
            "| epoch 58 | perplexity 55.11\n",
            "| epoch 59 | perplexity 52.35\n",
            "| epoch 60 | perplexity 49.67\n",
            "| epoch 61 | perplexity 48.26\n",
            "| epoch 62 | perplexity 44.53\n",
            "| epoch 63 | perplexity 41.39\n",
            "| epoch 64 | perplexity 39.05\n",
            "| epoch 65 | perplexity 37.84\n",
            "| epoch 66 | perplexity 36.35\n",
            "| epoch 67 | perplexity 34.60\n",
            "| epoch 68 | perplexity 31.06\n",
            "| epoch 69 | perplexity 30.68\n",
            "| epoch 70 | perplexity 28.65\n",
            "| epoch 71 | perplexity 26.93\n",
            "| epoch 72 | perplexity 25.80\n",
            "| epoch 73 | perplexity 23.46\n",
            "| epoch 74 | perplexity 22.73\n",
            "| epoch 75 | perplexity 22.06\n",
            "| epoch 76 | perplexity 19.87\n",
            "| epoch 77 | perplexity 18.89\n",
            "| epoch 78 | perplexity 17.67\n",
            "| epoch 79 | perplexity 16.94\n",
            "| epoch 80 | perplexity 15.79\n",
            "| epoch 81 | perplexity 15.37\n",
            "| epoch 82 | perplexity 14.84\n",
            "| epoch 83 | perplexity 14.45\n",
            "| epoch 84 | perplexity 13.81\n",
            "| epoch 85 | perplexity 12.72\n",
            "| epoch 86 | perplexity 12.36\n",
            "| epoch 87 | perplexity 10.97\n",
            "| epoch 88 | perplexity 10.82\n",
            "| epoch 89 | perplexity 10.30\n",
            "| epoch 90 | perplexity 9.79\n",
            "| epoch 91 | perplexity 9.45\n",
            "| epoch 92 | perplexity 8.77\n",
            "| epoch 93 | perplexity 8.55\n",
            "| epoch 94 | perplexity 9.04\n",
            "| epoch 95 | perplexity 8.94\n",
            "| epoch 96 | perplexity 7.57\n",
            "| epoch 97 | perplexity 7.27\n",
            "| epoch 98 | perplexity 6.92\n",
            "| epoch 99 | perplexity 6.46\n",
            "| epoch 100 | perplexity 6.48\n"
          ]
        }
      ]
    },
    {
      "cell_type": "markdown",
      "source": [
        "### RNNLMのTrainerクラス"
      ],
      "metadata": {
        "id": "7G4_Q3-1A92c"
      }
    },
    {
      "cell_type": "code",
      "source": [
        "import trainer"
      ],
      "metadata": {
        "id": "tkHA3aE2BqJZ"
      },
      "execution_count": 13,
      "outputs": []
    },
    {
      "cell_type": "code",
      "source": [
        "# ハイパーパラメータの設定\n",
        "batch_size = 10\n",
        "wordvec_size = 100\n",
        "hidden_size = 100  # RNNの隠れ状態ベクトルの要素数\n",
        "time_size = 5  # RNNを展開するサイズ\n",
        "lr = 0.1\n",
        "max_epoch = 100\n",
        "\n",
        "# 学習データの読み込み\n",
        "corpus, word_to_id, id_to_word = ptb.load_data('train')\n",
        "corpus_size = 1000  # テスト用にデータセットを小さくする\n",
        "corpus = corpus[:corpus_size]\n",
        "vocab_size = int(max(corpus) + 1)\n",
        "xs = corpus[:-1]  # 入力\n",
        "ts = corpus[1:]  # 出力（教師ラベル）\n",
        "\n",
        "# モデルの生成\n",
        "model = SimpleRnnlm(vocab_size, wordvec_size, hidden_size)\n",
        "optimizer = SGD(lr)\n",
        "trainer = trainer.RnnlmTrainer(model, optimizer)\n",
        "\n",
        "trainer.fit(xs, ts, max_epoch, batch_size, time_size)\n",
        "trainer.plot()"
      ],
      "metadata": {
        "colab": {
          "base_uri": "https://localhost:8080/",
          "height": 1000
        },
        "id": "bmHDIi24BZwr",
        "outputId": "652d719a-c012-4674-c532-305e7c2f76d3"
      },
      "execution_count": 14,
      "outputs": [
        {
          "output_type": "stream",
          "name": "stdout",
          "text": [
            "| epoch 1 |  iter 1 / 19 | time 0[s] | perplexity 417.20\n",
            "| epoch 2 |  iter 1 / 19 | time 0[s] | perplexity 351.95\n",
            "| epoch 3 |  iter 1 / 19 | time 0[s] | perplexity 249.46\n",
            "| epoch 4 |  iter 1 / 19 | time 0[s] | perplexity 217.88\n",
            "| epoch 5 |  iter 1 / 19 | time 0[s] | perplexity 209.09\n",
            "| epoch 6 |  iter 1 / 19 | time 0[s] | perplexity 207.21\n",
            "| epoch 7 |  iter 1 / 19 | time 0[s] | perplexity 200.75\n",
            "| epoch 8 |  iter 1 / 19 | time 0[s] | perplexity 200.51\n",
            "| epoch 9 |  iter 1 / 19 | time 1[s] | perplexity 194.51\n",
            "| epoch 10 |  iter 1 / 19 | time 1[s] | perplexity 190.54\n",
            "| epoch 11 |  iter 1 / 19 | time 1[s] | perplexity 192.68\n",
            "| epoch 12 |  iter 1 / 19 | time 1[s] | perplexity 190.13\n",
            "| epoch 13 |  iter 1 / 19 | time 1[s] | perplexity 193.30\n",
            "| epoch 14 |  iter 1 / 19 | time 1[s] | perplexity 187.02\n",
            "| epoch 15 |  iter 1 / 19 | time 1[s] | perplexity 187.16\n",
            "| epoch 16 |  iter 1 / 19 | time 1[s] | perplexity 191.56\n",
            "| epoch 17 |  iter 1 / 19 | time 1[s] | perplexity 189.68\n",
            "| epoch 18 |  iter 1 / 19 | time 1[s] | perplexity 185.21\n",
            "| epoch 19 |  iter 1 / 19 | time 1[s] | perplexity 181.17\n",
            "| epoch 20 |  iter 1 / 19 | time 2[s] | perplexity 182.19\n",
            "| epoch 21 |  iter 1 / 19 | time 2[s] | perplexity 180.16\n",
            "| epoch 22 |  iter 1 / 19 | time 2[s] | perplexity 179.07\n",
            "| epoch 23 |  iter 1 / 19 | time 2[s] | perplexity 180.43\n",
            "| epoch 24 |  iter 1 / 19 | time 2[s] | perplexity 177.86\n",
            "| epoch 25 |  iter 1 / 19 | time 2[s] | perplexity 172.31\n",
            "| epoch 26 |  iter 1 / 19 | time 2[s] | perplexity 175.22\n",
            "| epoch 27 |  iter 1 / 19 | time 2[s] | perplexity 172.15\n",
            "| epoch 28 |  iter 1 / 19 | time 2[s] | perplexity 171.92\n",
            "| epoch 29 |  iter 1 / 19 | time 2[s] | perplexity 166.83\n",
            "| epoch 30 |  iter 1 / 19 | time 3[s] | perplexity 165.84\n",
            "| epoch 31 |  iter 1 / 19 | time 3[s] | perplexity 164.21\n",
            "| epoch 32 |  iter 1 / 19 | time 3[s] | perplexity 158.45\n",
            "| epoch 33 |  iter 1 / 19 | time 3[s] | perplexity 158.04\n",
            "| epoch 34 |  iter 1 / 19 | time 3[s] | perplexity 159.85\n",
            "| epoch 35 |  iter 1 / 19 | time 3[s] | perplexity 154.10\n",
            "| epoch 36 |  iter 1 / 19 | time 3[s] | perplexity 150.78\n",
            "| epoch 37 |  iter 1 / 19 | time 3[s] | perplexity 149.38\n",
            "| epoch 38 |  iter 1 / 19 | time 3[s] | perplexity 142.62\n",
            "| epoch 39 |  iter 1 / 19 | time 3[s] | perplexity 138.31\n",
            "| epoch 40 |  iter 1 / 19 | time 4[s] | perplexity 133.63\n",
            "| epoch 41 |  iter 1 / 19 | time 4[s] | perplexity 129.83\n",
            "| epoch 42 |  iter 1 / 19 | time 4[s] | perplexity 127.87\n",
            "| epoch 43 |  iter 1 / 19 | time 4[s] | perplexity 122.14\n",
            "| epoch 44 |  iter 1 / 19 | time 4[s] | perplexity 119.41\n",
            "| epoch 45 |  iter 1 / 19 | time 4[s] | perplexity 110.31\n",
            "| epoch 46 |  iter 1 / 19 | time 4[s] | perplexity 106.94\n",
            "| epoch 47 |  iter 1 / 19 | time 4[s] | perplexity 106.53\n",
            "| epoch 48 |  iter 1 / 19 | time 4[s] | perplexity 101.23\n",
            "| epoch 49 |  iter 1 / 19 | time 4[s] | perplexity 97.12\n",
            "| epoch 50 |  iter 1 / 19 | time 4[s] | perplexity 91.50\n",
            "| epoch 51 |  iter 1 / 19 | time 5[s] | perplexity 88.78\n",
            "| epoch 52 |  iter 1 / 19 | time 5[s] | perplexity 82.70\n",
            "| epoch 53 |  iter 1 / 19 | time 5[s] | perplexity 80.70\n",
            "| epoch 54 |  iter 1 / 19 | time 5[s] | perplexity 76.57\n",
            "| epoch 55 |  iter 1 / 19 | time 5[s] | perplexity 72.08\n",
            "| epoch 56 |  iter 1 / 19 | time 5[s] | perplexity 68.58\n",
            "| epoch 57 |  iter 1 / 19 | time 5[s] | perplexity 67.86\n",
            "| epoch 58 |  iter 1 / 19 | time 5[s] | perplexity 62.45\n",
            "| epoch 59 |  iter 1 / 19 | time 5[s] | perplexity 59.88\n",
            "| epoch 60 |  iter 1 / 19 | time 5[s] | perplexity 55.74\n",
            "| epoch 61 |  iter 1 / 19 | time 6[s] | perplexity 52.34\n",
            "| epoch 62 |  iter 1 / 19 | time 6[s] | perplexity 49.50\n",
            "| epoch 63 |  iter 1 / 19 | time 6[s] | perplexity 48.22\n",
            "| epoch 64 |  iter 1 / 19 | time 6[s] | perplexity 44.92\n",
            "| epoch 65 |  iter 1 / 19 | time 6[s] | perplexity 40.85\n",
            "| epoch 66 |  iter 1 / 19 | time 6[s] | perplexity 39.69\n",
            "| epoch 67 |  iter 1 / 19 | time 6[s] | perplexity 37.50\n",
            "| epoch 68 |  iter 1 / 19 | time 6[s] | perplexity 35.90\n",
            "| epoch 69 |  iter 1 / 19 | time 6[s] | perplexity 35.34\n",
            "| epoch 70 |  iter 1 / 19 | time 6[s] | perplexity 31.17\n",
            "| epoch 71 |  iter 1 / 19 | time 6[s] | perplexity 30.63\n",
            "| epoch 72 |  iter 1 / 19 | time 7[s] | perplexity 28.57\n",
            "| epoch 73 |  iter 1 / 19 | time 7[s] | perplexity 26.65\n",
            "| epoch 74 |  iter 1 / 19 | time 7[s] | perplexity 25.79\n",
            "| epoch 75 |  iter 1 / 19 | time 7[s] | perplexity 24.47\n",
            "| epoch 76 |  iter 1 / 19 | time 7[s] | perplexity 22.32\n",
            "| epoch 77 |  iter 1 / 19 | time 7[s] | perplexity 20.90\n",
            "| epoch 78 |  iter 1 / 19 | time 7[s] | perplexity 20.63\n",
            "| epoch 79 |  iter 1 / 19 | time 7[s] | perplexity 19.51\n",
            "| epoch 80 |  iter 1 / 19 | time 7[s] | perplexity 17.79\n",
            "| epoch 81 |  iter 1 / 19 | time 7[s] | perplexity 16.78\n",
            "| epoch 82 |  iter 1 / 19 | time 8[s] | perplexity 16.20\n",
            "| epoch 83 |  iter 1 / 19 | time 8[s] | perplexity 15.71\n",
            "| epoch 84 |  iter 1 / 19 | time 8[s] | perplexity 14.68\n",
            "| epoch 85 |  iter 1 / 19 | time 8[s] | perplexity 13.39\n",
            "| epoch 86 |  iter 1 / 19 | time 8[s] | perplexity 13.20\n",
            "| epoch 87 |  iter 1 / 19 | time 8[s] | perplexity 13.14\n",
            "| epoch 88 |  iter 1 / 19 | time 8[s] | perplexity 11.65\n",
            "| epoch 89 |  iter 1 / 19 | time 8[s] | perplexity 11.39\n",
            "| epoch 90 |  iter 1 / 19 | time 8[s] | perplexity 10.17\n",
            "| epoch 91 |  iter 1 / 19 | time 8[s] | perplexity 10.06\n",
            "| epoch 92 |  iter 1 / 19 | time 9[s] | perplexity 9.45\n",
            "| epoch 93 |  iter 1 / 19 | time 9[s] | perplexity 8.90\n",
            "| epoch 94 |  iter 1 / 19 | time 9[s] | perplexity 8.52\n",
            "| epoch 95 |  iter 1 / 19 | time 9[s] | perplexity 8.22\n",
            "| epoch 96 |  iter 1 / 19 | time 9[s] | perplexity 8.15\n",
            "| epoch 97 |  iter 1 / 19 | time 9[s] | perplexity 7.61\n",
            "| epoch 98 |  iter 1 / 19 | time 9[s] | perplexity 7.26\n",
            "| epoch 99 |  iter 1 / 19 | time 9[s] | perplexity 6.52\n",
            "| epoch 100 |  iter 1 / 19 | time 9[s] | perplexity 6.05\n"
          ]
        },
        {
          "output_type": "display_data",
          "data": {
            "text/plain": [
              "<Figure size 432x288 with 1 Axes>"
            ],
            "image/png": "[encoded data removed]"
          },
          "metadata": {
            "needs_background": "light"
          }
        }
      ]
    }
  ]
}